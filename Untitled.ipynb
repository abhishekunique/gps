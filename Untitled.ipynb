{
 "cells": [
  {
   "cell_type": "code",
   "execution_count": 1,
   "metadata": {
    "collapsed": true
   },
   "outputs": [],
   "source": [
    "import numpy as np\n",
    "import matplotlib.pyplot as plt\n",
    "%matplotlib inline"
   ]
  },
  {
   "cell_type": "code",
   "execution_count": 2,
   "metadata": {
    "collapsed": false
   },
   "outputs": [
    {
     "ename": "IOError",
     "evalue": "[Errno 2] No such file or directory: 'data4269_full_pull.npy'",
     "output_type": "error",
     "traceback": [
      "\u001b[0;31m---------------------------------------------------------------------------\u001b[0m",
      "\u001b[0;31mIOError\u001b[0m                                   Traceback (most recent call last)",
      "\u001b[0;32m<ipython-input-2-cd0b33d57349>\u001b[0m in \u001b[0;36m<module>\u001b[0;34m()\u001b[0m\n\u001b[0;32m----> 1\u001b[0;31m \u001b[0mdata\u001b[0m \u001b[0;34m=\u001b[0m \u001b[0mnp\u001b[0m\u001b[0;34m.\u001b[0m\u001b[0mload\u001b[0m\u001b[0;34m(\u001b[0m\u001b[0;34m'data4269_full_pull.npy'\u001b[0m\u001b[0;34m)\u001b[0m\u001b[0;34m\u001b[0m\u001b[0m\n\u001b[0m\u001b[1;32m      2\u001b[0m \u001b[0mdata_noee\u001b[0m \u001b[0;34m=\u001b[0m \u001b[0mnp\u001b[0m\u001b[0;34m.\u001b[0m\u001b[0mload\u001b[0m\u001b[0;34m(\u001b[0m\u001b[0;34m'data4770_noee_pull.npy'\u001b[0m\u001b[0;34m)\u001b[0m\u001b[0;34m\u001b[0m\u001b[0m\n\u001b[1;32m      3\u001b[0m \u001b[0mdata_base\u001b[0m \u001b[0;34m=\u001b[0m \u001b[0mnp\u001b[0m\u001b[0;34m.\u001b[0m\u001b[0mload\u001b[0m\u001b[0;34m(\u001b[0m\u001b[0;34m'data2872_baseline.npy'\u001b[0m\u001b[0;34m)\u001b[0m\u001b[0;34m\u001b[0m\u001b[0m\n\u001b[1;32m      4\u001b[0m \u001b[0mdata_basic\u001b[0m \u001b[0;34m=\u001b[0m \u001b[0mnp\u001b[0m\u001b[0;34m.\u001b[0m\u001b[0mload\u001b[0m\u001b[0;34m(\u001b[0m\u001b[0;34m'data453_noee_working_basic.npy'\u001b[0m\u001b[0;34m)\u001b[0m\u001b[0;34m\u001b[0m\u001b[0m\n",
      "\u001b[0;32m/usr/local/lib/python2.7/dist-packages/numpy/lib/npyio.pyc\u001b[0m in \u001b[0;36mload\u001b[0;34m(file, mmap_mode, allow_pickle, fix_imports, encoding)\u001b[0m\n\u001b[1;32m    360\u001b[0m     \u001b[0mown_fid\u001b[0m \u001b[0;34m=\u001b[0m \u001b[0mFalse\u001b[0m\u001b[0;34m\u001b[0m\u001b[0m\n\u001b[1;32m    361\u001b[0m     \u001b[0;32mif\u001b[0m \u001b[0misinstance\u001b[0m\u001b[0;34m(\u001b[0m\u001b[0mfile\u001b[0m\u001b[0;34m,\u001b[0m \u001b[0mbasestring\u001b[0m\u001b[0;34m)\u001b[0m\u001b[0;34m:\u001b[0m\u001b[0;34m\u001b[0m\u001b[0m\n\u001b[0;32m--> 362\u001b[0;31m         \u001b[0mfid\u001b[0m \u001b[0;34m=\u001b[0m \u001b[0mopen\u001b[0m\u001b[0;34m(\u001b[0m\u001b[0mfile\u001b[0m\u001b[0;34m,\u001b[0m \u001b[0;34m\"rb\"\u001b[0m\u001b[0;34m)\u001b[0m\u001b[0;34m\u001b[0m\u001b[0m\n\u001b[0m\u001b[1;32m    363\u001b[0m         \u001b[0mown_fid\u001b[0m \u001b[0;34m=\u001b[0m \u001b[0mTrue\u001b[0m\u001b[0;34m\u001b[0m\u001b[0m\n\u001b[1;32m    364\u001b[0m     \u001b[0;32melse\u001b[0m\u001b[0;34m:\u001b[0m\u001b[0;34m\u001b[0m\u001b[0m\n",
      "\u001b[0;31mIOError\u001b[0m: [Errno 2] No such file or directory: 'data4269_full_pull.npy'"
     ]
    }
   ],
   "source": [
    "data = np.load('data4269_full_pull.npy')\n",
    "data_noee = np.load('data4770_noee_pull.npy')\n",
    "data_base = np.load('data2872_baseline.npy')\n",
    "data_basic = np.load('data453_noee_working_basic.npy')"
   ]
  },
  {
   "cell_type": "code",
   "execution_count": 3,
   "metadata": {
    "collapsed": false
   },
   "outputs": [
    {
     "ename": "NameError",
     "evalue": "name 'data' is not defined",
     "output_type": "error",
     "traceback": [
      "\u001b[0;31m---------------------------------------------------------------------------\u001b[0m",
      "\u001b[0;31mNameError\u001b[0m                                 Traceback (most recent call last)",
      "\u001b[0;32m<ipython-input-3-0896950f40dc>\u001b[0m in \u001b[0;36m<module>\u001b[0;34m()\u001b[0m\n\u001b[0;32m----> 1\u001b[0;31m \u001b[0mdata\u001b[0m\u001b[0;34m.\u001b[0m\u001b[0mshape\u001b[0m\u001b[0;34m,\u001b[0m \u001b[0mdata_noee\u001b[0m\u001b[0;34m.\u001b[0m\u001b[0mshape\u001b[0m\u001b[0;34m,\u001b[0m \u001b[0mdata_base\u001b[0m\u001b[0;34m.\u001b[0m\u001b[0mshape\u001b[0m\u001b[0;34m\u001b[0m\u001b[0m\n\u001b[0m",
      "\u001b[0;31mNameError\u001b[0m: name 'data' is not defined"
     ]
    }
   ],
   "source": [
    "data.shape, data_noee.shape, data_base.shape"
   ]
  },
  {
   "cell_type": "code",
   "execution_count": 4,
   "metadata": {
    "collapsed": false
   },
   "outputs": [
    {
     "ename": "NameError",
     "evalue": "name 'data' is not defined",
     "output_type": "error",
     "traceback": [
      "\u001b[0;31m---------------------------------------------------------------------------\u001b[0m",
      "\u001b[0;31mNameError\u001b[0m                                 Traceback (most recent call last)",
      "\u001b[0;32m<ipython-input-4-0fa39b26144f>\u001b[0m in \u001b[0;36m<module>\u001b[0;34m()\u001b[0m\n\u001b[1;32m      4\u001b[0m     \u001b[0mx\u001b[0m \u001b[0;34m=\u001b[0m \u001b[0mnp\u001b[0m\u001b[0;34m.\u001b[0m\u001b[0mmean\u001b[0m\u001b[0;34m(\u001b[0m\u001b[0mx\u001b[0m\u001b[0;34m,\u001b[0m \u001b[0maxis\u001b[0m\u001b[0;34m=\u001b[0m\u001b[0;34m-\u001b[0m\u001b[0;36m2\u001b[0m\u001b[0;34m)\u001b[0m\u001b[0;34m\u001b[0m\u001b[0m\n\u001b[1;32m      5\u001b[0m     \u001b[0;32mreturn\u001b[0m \u001b[0mx\u001b[0m\u001b[0;34m\u001b[0m\u001b[0m\n\u001b[0;32m----> 6\u001b[0;31m \u001b[0mpdata\u001b[0m \u001b[0;34m=\u001b[0m \u001b[0mprocessdata\u001b[0m\u001b[0;34m(\u001b[0m\u001b[0mdata\u001b[0m\u001b[0;34m)\u001b[0m\u001b[0;34m\u001b[0m\u001b[0m\n\u001b[0m\u001b[1;32m      7\u001b[0m \u001b[0mpdata_noee\u001b[0m \u001b[0;34m=\u001b[0m \u001b[0mprocessdata\u001b[0m\u001b[0;34m(\u001b[0m\u001b[0mdata_noee\u001b[0m\u001b[0;34m)\u001b[0m\u001b[0;34m\u001b[0m\u001b[0m\n\u001b[1;32m      8\u001b[0m \u001b[0mpdata_shape\u001b[0m \u001b[0;34m=\u001b[0m \u001b[0mprocessdata\u001b[0m\u001b[0;34m(\u001b[0m\u001b[0mdata_base\u001b[0m\u001b[0;34m)\u001b[0m\u001b[0;34m\u001b[0m\u001b[0m\n",
      "\u001b[0;31mNameError\u001b[0m: name 'data' is not defined"
     ]
    }
   ],
   "source": [
    "def processdata(data):\n",
    "    x = np.sum(data, axis=-1)\n",
    "    x = np.mean(x, axis=-2)\n",
    "    x = np.mean(x, axis=-2)\n",
    "    return x\n",
    "pdata = processdata(data)\n",
    "pdata_noee = processdata(data_noee)\n",
    "pdata_shape = processdata(data_base)\n",
    "pdata_basic = processdata(data_basic)\n",
    "pdata.shape, pdata_noee.shape"
   ]
  },
  {
   "cell_type": "code",
   "execution_count": 5,
   "metadata": {
    "collapsed": false
   },
   "outputs": [
    {
     "ename": "NameError",
     "evalue": "name 'pdata' is not defined",
     "output_type": "error",
     "traceback": [
      "\u001b[0;31m---------------------------------------------------------------------------\u001b[0m",
      "\u001b[0;31mNameError\u001b[0m                                 Traceback (most recent call last)",
      "\u001b[0;32m<ipython-input-5-e74b92a9d60d>\u001b[0m in \u001b[0;36m<module>\u001b[0;34m()\u001b[0m\n\u001b[1;32m      1\u001b[0m \u001b[0mplt\u001b[0m\u001b[0;34m.\u001b[0m\u001b[0mfigure\u001b[0m\u001b[0;34m(\u001b[0m\u001b[0mfigsize\u001b[0m\u001b[0;34m=\u001b[0m\u001b[0;34m(\u001b[0m\u001b[0;36m9\u001b[0m\u001b[0;34m,\u001b[0m \u001b[0;36m6\u001b[0m\u001b[0;34m)\u001b[0m\u001b[0;34m)\u001b[0m\u001b[0;34m\u001b[0m\u001b[0m\n\u001b[0;32m----> 2\u001b[0;31m \u001b[0mp1\u001b[0m\u001b[0;34m,\u001b[0m \u001b[0;34m=\u001b[0m \u001b[0mplt\u001b[0m\u001b[0;34m.\u001b[0m\u001b[0mplot\u001b[0m\u001b[0;34m(\u001b[0m\u001b[0mrange\u001b[0m\u001b[0;34m(\u001b[0m\u001b[0mpdata\u001b[0m\u001b[0;34m.\u001b[0m\u001b[0mshape\u001b[0m\u001b[0;34m[\u001b[0m\u001b[0;36m0\u001b[0m\u001b[0;34m]\u001b[0m\u001b[0;34m)\u001b[0m\u001b[0;34m,\u001b[0m \u001b[0mpdata\u001b[0m\u001b[0;34m[\u001b[0m\u001b[0;34m:\u001b[0m\u001b[0;34m,\u001b[0m \u001b[0;36m0\u001b[0m\u001b[0;34m,\u001b[0m \u001b[0;36m0\u001b[0m\u001b[0;34m]\u001b[0m\u001b[0;34m)\u001b[0m\u001b[0;34m\u001b[0m\u001b[0m\n\u001b[0m\u001b[1;32m      3\u001b[0m \u001b[0mp2\u001b[0m\u001b[0;34m,\u001b[0m \u001b[0;34m=\u001b[0m \u001b[0mplt\u001b[0m\u001b[0;34m.\u001b[0m\u001b[0mplot\u001b[0m\u001b[0;34m(\u001b[0m\u001b[0mrange\u001b[0m\u001b[0;34m(\u001b[0m\u001b[0mpdata\u001b[0m\u001b[0;34m.\u001b[0m\u001b[0mshape\u001b[0m\u001b[0;34m[\u001b[0m\u001b[0;36m0\u001b[0m\u001b[0;34m]\u001b[0m\u001b[0;34m)\u001b[0m\u001b[0;34m,\u001b[0m \u001b[0mpdata\u001b[0m\u001b[0;34m[\u001b[0m\u001b[0;34m:\u001b[0m\u001b[0;34m,\u001b[0m \u001b[0;36m1\u001b[0m\u001b[0;34m,\u001b[0m \u001b[0;36m0\u001b[0m\u001b[0;34m]\u001b[0m\u001b[0;34m)\u001b[0m\u001b[0;34m\u001b[0m\u001b[0m\n\u001b[1;32m      4\u001b[0m \u001b[0;31m# p3, = plt.plot(range(pdata_noee.shape[0]), pdata_noee[:, 0, 0])\u001b[0m\u001b[0;34m\u001b[0m\u001b[0;34m\u001b[0m\u001b[0m\n\u001b[1;32m      5\u001b[0m \u001b[0mp4\u001b[0m\u001b[0;34m,\u001b[0m \u001b[0;34m=\u001b[0m \u001b[0mplt\u001b[0m\u001b[0;34m.\u001b[0m\u001b[0mplot\u001b[0m\u001b[0;34m(\u001b[0m\u001b[0mrange\u001b[0m\u001b[0;34m(\u001b[0m\u001b[0mpdata_noee\u001b[0m\u001b[0;34m.\u001b[0m\u001b[0mshape\u001b[0m\u001b[0;34m[\u001b[0m\u001b[0;36m0\u001b[0m\u001b[0;34m]\u001b[0m\u001b[0;34m)\u001b[0m\u001b[0;34m,\u001b[0m \u001b[0mpdata_noee\u001b[0m\u001b[0;34m[\u001b[0m\u001b[0;34m:\u001b[0m\u001b[0;34m,\u001b[0m \u001b[0;36m1\u001b[0m\u001b[0;34m,\u001b[0m \u001b[0;36m0\u001b[0m\u001b[0;34m]\u001b[0m\u001b[0;34m)\u001b[0m\u001b[0;34m\u001b[0m\u001b[0m\n",
      "\u001b[0;31mNameError\u001b[0m: name 'pdata' is not defined"
     ]
    },
    {
     "data": {
      "text/plain": [
       "<matplotlib.figure.Figure at 0x7f45c6ae4390>"
      ]
     },
     "metadata": {},
     "output_type": "display_data"
    }
   ],
   "source": [
    "plt.figure(figsize=(9, 6))\n",
    "p1, = plt.plot(range(pdata.shape[0]), pdata[:, 0, 0])\n",
    "p2, = plt.plot(range(pdata.shape[0]), pdata[:, 1, 0])\n",
    "# p3, = plt.plot(range(pdata_noee.shape[0]), pdata_noee[:, 0, 0])\n",
    "p4, = plt.plot(range(pdata_noee.shape[0]), pdata_noee[:, 1, 0])\n",
    "p5, = plt.plot(range(pdata_shape.shape[0]), pdata_shape[:, 1, 0])\n",
    "p6, = plt.plot(range(pdata_basic.shape[0]), pdata_basic[:, 1, 0])\n",
    "plt.legend([p1, p2, p4, p5, p6], ['3link', 'Full state', 'No EE', 'Baseline', 'Not fancy'])"
   ]
  },
  {
   "cell_type": "code",
   "execution_count": 6,
   "metadata": {
    "collapsed": false
   },
   "outputs": [
    {
     "ename": "NameError",
     "evalue": "name 'pdata' is not defined",
     "output_type": "error",
     "traceback": [
      "\u001b[0;31m---------------------------------------------------------------------------\u001b[0m",
      "\u001b[0;31mNameError\u001b[0m                                 Traceback (most recent call last)",
      "\u001b[0;32m<ipython-input-6-f86012702d10>\u001b[0m in \u001b[0;36m<module>\u001b[0;34m()\u001b[0m\n\u001b[0;32m----> 1\u001b[0;31m \u001b[0mplt\u001b[0m\u001b[0;34m.\u001b[0m\u001b[0mplot\u001b[0m\u001b[0;34m(\u001b[0m\u001b[0mrange\u001b[0m\u001b[0;34m(\u001b[0m\u001b[0mpdata\u001b[0m\u001b[0;34m.\u001b[0m\u001b[0mshape\u001b[0m\u001b[0;34m[\u001b[0m\u001b[0;36m0\u001b[0m\u001b[0;34m]\u001b[0m\u001b[0;34m)\u001b[0m\u001b[0;34m,\u001b[0m \u001b[0mpdata\u001b[0m\u001b[0;34m[\u001b[0m\u001b[0;34m:\u001b[0m\u001b[0;34m,\u001b[0m \u001b[0;36m0\u001b[0m\u001b[0;34m,\u001b[0m \u001b[0;36m1\u001b[0m\u001b[0;34m]\u001b[0m\u001b[0;34m)\u001b[0m\u001b[0;34m\u001b[0m\u001b[0m\n\u001b[0m\u001b[1;32m      2\u001b[0m \u001b[0;31m# plt.figure()\u001b[0m\u001b[0;34m\u001b[0m\u001b[0;34m\u001b[0m\u001b[0m\n\u001b[1;32m      3\u001b[0m \u001b[0mplt\u001b[0m\u001b[0;34m.\u001b[0m\u001b[0mplot\u001b[0m\u001b[0;34m(\u001b[0m\u001b[0mrange\u001b[0m\u001b[0;34m(\u001b[0m\u001b[0mpdata\u001b[0m\u001b[0;34m.\u001b[0m\u001b[0mshape\u001b[0m\u001b[0;34m[\u001b[0m\u001b[0;36m0\u001b[0m\u001b[0;34m]\u001b[0m\u001b[0;34m)\u001b[0m\u001b[0;34m,\u001b[0m \u001b[0mpdata\u001b[0m\u001b[0;34m[\u001b[0m\u001b[0;34m:\u001b[0m\u001b[0;34m,\u001b[0m \u001b[0;36m1\u001b[0m\u001b[0;34m,\u001b[0m \u001b[0;36m1\u001b[0m\u001b[0;34m]\u001b[0m\u001b[0;34m)\u001b[0m\u001b[0;34m\u001b[0m\u001b[0m\n\u001b[1;32m      4\u001b[0m \u001b[0mplt\u001b[0m\u001b[0;34m.\u001b[0m\u001b[0mplot\u001b[0m\u001b[0;34m(\u001b[0m\u001b[0mrange\u001b[0m\u001b[0;34m(\u001b[0m\u001b[0mpdata\u001b[0m\u001b[0;34m.\u001b[0m\u001b[0mshape\u001b[0m\u001b[0;34m[\u001b[0m\u001b[0;36m0\u001b[0m\u001b[0;34m]\u001b[0m\u001b[0;34m)\u001b[0m\u001b[0;34m,\u001b[0m \u001b[0mpdata_noee\u001b[0m\u001b[0;34m[\u001b[0m\u001b[0;34m:\u001b[0m\u001b[0;34m,\u001b[0m \u001b[0;36m0\u001b[0m\u001b[0;34m,\u001b[0m \u001b[0;36m1\u001b[0m\u001b[0;34m]\u001b[0m\u001b[0;34m)\u001b[0m\u001b[0;34m\u001b[0m\u001b[0m\n\u001b[1;32m      5\u001b[0m \u001b[0mplt\u001b[0m\u001b[0;34m.\u001b[0m\u001b[0mplot\u001b[0m\u001b[0;34m(\u001b[0m\u001b[0mrange\u001b[0m\u001b[0;34m(\u001b[0m\u001b[0mpdata\u001b[0m\u001b[0;34m.\u001b[0m\u001b[0mshape\u001b[0m\u001b[0;34m[\u001b[0m\u001b[0;36m0\u001b[0m\u001b[0;34m]\u001b[0m\u001b[0;34m)\u001b[0m\u001b[0;34m,\u001b[0m \u001b[0mpdata_noee\u001b[0m\u001b[0;34m[\u001b[0m\u001b[0;34m:\u001b[0m\u001b[0;34m,\u001b[0m \u001b[0;36m1\u001b[0m\u001b[0;34m,\u001b[0m \u001b[0;36m1\u001b[0m\u001b[0;34m]\u001b[0m\u001b[0;34m)\u001b[0m\u001b[0;34m\u001b[0m\u001b[0m\n",
      "\u001b[0;31mNameError\u001b[0m: name 'pdata' is not defined"
     ]
    }
   ],
   "source": [
    "plt.plot(range(pdata.shape[0]), pdata[:, 0, 1])\n",
    "# plt.figure()\n",
    "plt.plot(range(pdata.shape[0]), pdata[:, 1, 1])\n",
    "plt.plot(range(pdata.shape[0]), pdata_noee[:, 0, 1])\n",
    "plt.plot(range(pdata.shape[0]), pdata_noee[:, 1, 1])"
   ]
  },
  {
   "cell_type": "code",
   "execution_count": 7,
   "metadata": {
    "collapsed": false
   },
   "outputs": [
    {
     "ename": "NameError",
     "evalue": "name 'pdata' is not defined",
     "output_type": "error",
     "traceback": [
      "\u001b[0;31m---------------------------------------------------------------------------\u001b[0m",
      "\u001b[0;31mNameError\u001b[0m                                 Traceback (most recent call last)",
      "\u001b[0;32m<ipython-input-7-04a7ad17ea57>\u001b[0m in \u001b[0;36m<module>\u001b[0;34m()\u001b[0m\n\u001b[0;32m----> 1\u001b[0;31m \u001b[0mplt\u001b[0m\u001b[0;34m.\u001b[0m\u001b[0merrorbar\u001b[0m\u001b[0;34m(\u001b[0m\u001b[0mrange\u001b[0m\u001b[0;34m(\u001b[0m\u001b[0mpdata\u001b[0m\u001b[0;34m.\u001b[0m\u001b[0mshape\u001b[0m\u001b[0;34m[\u001b[0m\u001b[0;36m0\u001b[0m\u001b[0;34m]\u001b[0m\u001b[0;34m)\u001b[0m\u001b[0;34m,\u001b[0m \u001b[0mpdata\u001b[0m\u001b[0;34m[\u001b[0m\u001b[0;34m:\u001b[0m\u001b[0;34m,\u001b[0m \u001b[0;36m1\u001b[0m\u001b[0;34m,\u001b[0m \u001b[0;36m0\u001b[0m\u001b[0;34m]\u001b[0m\u001b[0;34m,\u001b[0m \u001b[0myerr\u001b[0m\u001b[0;34m=\u001b[0m\u001b[0;36m0.1\u001b[0m \u001b[0;34m*\u001b[0m \u001b[0mnp\u001b[0m\u001b[0;34m.\u001b[0m\u001b[0marange\u001b[0m\u001b[0;34m(\u001b[0m\u001b[0mpdata\u001b[0m\u001b[0;34m.\u001b[0m\u001b[0mshape\u001b[0m\u001b[0;34m[\u001b[0m\u001b[0;36m0\u001b[0m\u001b[0;34m]\u001b[0m\u001b[0;34m)\u001b[0m\u001b[0;34m)\u001b[0m\u001b[0;34m\u001b[0m\u001b[0m\n\u001b[0m",
      "\u001b[0;31mNameError\u001b[0m: name 'pdata' is not defined"
     ]
    }
   ],
   "source": [
    "plt.errorbar(range(pdata.shape[0]), pdata[:, 1, 0], yerr=0.1 * np.arange(pdata.shape[0]))"
   ]
  },
  {
   "cell_type": "code",
   "execution_count": 8,
   "metadata": {
    "collapsed": true
   },
   "outputs": [],
   "source": [
    "from os import listdir\n",
    "from os.path import isfile, join\n",
    "def filesin(mypath):\n",
    "    return [f for f in listdir(mypath) if isfile(join(mypath, f))]"
   ]
  },
  {
   "cell_type": "code",
   "execution_count": 50,
   "metadata": {
    "collapsed": false
   },
   "outputs": [],
   "source": [
    "def all_data(mypath):\n",
    "    alldata = []\n",
    "    for f in filesin(mypath):\n",
    "        print join(mypath, f)\n",
    "        data = np.load(join(mypath, f))\n",
    "        pdata = processdata(data)\n",
    "        if data.shape[0] == 25:\n",
    "            alldata.append(pdata)\n",
    "    return np.array(alldata)"
   ]
  },
  {
   "cell_type": "code",
   "execution_count": 63,
   "metadata": {
    "collapsed": false
   },
   "outputs": [
    {
     "name": "stdout",
     "output_type": "stream",
     "text": [
      "rbfsearch/data00,2.08130764309,5233,0.0357344897018.npy\n",
      "rbfsearch/data10,0.331244080595,2760,0.00311075770094.npy\n",
      "rbfsearch/data00,64.984276357,4101,444.067953502.npy\n",
      "rbfsearch/data11,18.996785275,6007,2.70455455883.npy\n",
      "rbfsearch/data11,0.125828125,4809,0.000110888312501.npy\n",
      "rbfsearch/data11,84.3800384249,3734,11.8465804955.npy\n",
      "rbfsearch/data00,0.104701392651,1713,20.9073133416.npy\n",
      "rbfsearch/data10,0.54373017539,8778,2.43154767162.npy\n",
      "rbfsearch/data10,0.215089613267,6954,14.6131152614.npy\n",
      "rbfsearch/data10,10.0453631811,6499,0.000187894649724.npy\n",
      "rbfsearch/data11,0.727139726126,8232,1.71160824841.npy\n",
      "rbfsearch/data01,0.3569258024,4271,0.000146470861103.npy\n",
      "rbfsearch/data10,0.279066682194,2675,63.5664969112.npy\n",
      "rbfsearch/data11,93.4198797164,164,0.966597326476.npy\n",
      "rbfsearch/data11,0.110020518727,8430,0.0416436569452.npy\n",
      "rbfsearch/data01,0.811180460232,1475,0.00295080534112.npy\n",
      "rbfsearch/data10,8.83217149044,6373,0.0253683607348.npy\n",
      "rbfsearch/data10,0.45238122213,6464,0.400867941278.npy\n",
      "rbfsearch/data10,2.45697535037,7661,81.2493762397.npy\n",
      "rbfsearch/data00,36.3685129684,183,0.0198302228293.npy\n",
      "rbfsearch/data10,0.185997918305,885,0.0409151154668.npy\n",
      "rbfsearch/data11,64.3444024352,82,497.581352704.npy\n",
      "rbfsearch/data01,3.66079717604,3712,0.00596711164561.npy\n",
      "rbfsearch/data11,5.72858380143,6477,13.3868983367.npy\n",
      "rbfsearch/data10,0.839128985731,2536,0.00869778305787.npy\n",
      "rbfsearch/data10,1.31067986009,401,0.0866756756186.npy\n",
      "rbfsearch/data00,0.614693282292,807,0.0255669684829.npy\n",
      "rbfsearch/data00,1.70183180777,6546,0.936358416287.npy\n",
      "rbfsearch/data10,0.200673967204,1491,0.0109413867006.npy\n",
      "rbfsearch/data10,0.541498877665,8380,1.52691405071.npy\n",
      "rbfsearch/data01,0.323110384345,233,0.000114172284196.npy\n",
      "rbfsearch/data10,0.118821366003,4477,0.000306543575923.npy\n",
      "rbfsearch/data00,1.83643122713,6137,0.000969597457157.npy\n",
      "rbfsearch/data11,15.2900342861,3037,0.00605814642769.npy\n",
      "rbfsearch/data11,0.844062298702,5107,0.128963272878.npy\n",
      "rbfsearch/data01,0.24115918926,8702,746.115330805.npy\n",
      "rbfsearch/data10,78.3889230286,4343,61.7994816918.npy\n",
      "rbfsearch/data10,1.55547173476,4179,0.0267085259648.npy\n",
      "rbfsearch/data00,15.6904563707,669,0.122639293309.npy\n",
      "rbfsearch/data01,0.222209811233,154,0.00899871756279.npy\n",
      "rbfsearch/data11,0.290167503772,4074,16.0718273077.npy\n",
      "rbfsearch/data01,3.14083052776,6838,7.88769833555.npy\n",
      "rbfsearch/data00,16.8070947096,981,32.3057387404.npy\n",
      "rbfsearch/data00,20.1952222091,2955,0.0565106752805.npy\n",
      "rbfsearch/data01,1.87185205231,6426,0.235278197109.npy\n",
      "rbfsearch/data10,0.216113478571,8142,120.998632625.npy\n",
      "rbfsearch/data10,0.33871553977,6053,0.980323790487.npy\n",
      "rbfsearch/data01,1.54027288627,5695,0.0702562622422.npy\n",
      "rbfsearch/data00,4.69997487913,423,0.000497342953594.npy\n",
      "rbfsearch/data01,0.275692554996,2608,52.7525782323.npy\n",
      "rbfsearch/data11,55.3734463031,8615,0.0173500128436.npy\n",
      "rbfsearch/data01,0.259778806819,6783,21.2186822774.npy\n",
      "rbfsearch/data11,30.2345137412,8874,558.909878972.npy\n",
      "rbfsearch/data10,5.53324076924,5660,0.0141499329017.npy\n",
      "rbfsearch/data10,0.392162184376,1684,0.000359673185866.npy\n",
      "rbfsearch/data11,0.101870602078,2011,0.141579896504.npy\n",
      "rbfsearch/data11,0.341611711398,359,0.000158707531257.npy\n",
      "rbfsearch/data00,0.117914282613,4054,36.1249523874.npy\n",
      "rbfsearch/data01,6.27727494444,4760,0.00258355642085.npy\n",
      "rbfsearch/data10,2.95000944698,7324,22.229505146.npy\n",
      "rbfsearch/data00,2.16008816314,3357,0.000748114928783.npy\n",
      "rbfsearch/data00,25.5379187559,4783,212.493902139.npy\n",
      "rbfsearch/data01,20.3508880992,5279,0.00168548259247.npy\n",
      "rbfsearch/data00,2.16372011901,543,0.000318560733767.npy\n",
      "rbfsearch/data10,1.20417693247,2494,173.70313319.npy\n",
      "rbfsearch/data10,0.87939182983,6320,0.0495912409436.npy\n",
      "rbfsearch/data11,5.77356523311,6070,4.47701133252.npy\n",
      "rbfsearch/data01,0.535811425843,4922,0.00706463847094.npy\n",
      "rbfsearch/data10,7.16213399506,5874,0.000129364783325.npy\n",
      "rbfsearch/data11,41.346020373,1029,39.9600881448.npy\n",
      "rbfsearch/data01,45.6176150483,5663,736.872695666.npy\n",
      "rbfsearch/data01,7.68626579016,4624,0.000904611337779.npy\n",
      "rbfsearch/data10,0.469897177549,7093,0.00181166078032.npy\n",
      "rbfsearch/data00,0.149737216821,207,27.0716377085.npy\n",
      "rbfsearch/data01,0.288709172417,7218,0.0363514523841.npy\n",
      "rbfsearch/data10,6.87944438671,7663,140.134702276.npy\n",
      "rbfsearch/data01,17.4413357708,7825,110.164972657.npy\n",
      "rbfsearch/data10,45.5429661272,3043,0.206570019256.npy\n",
      "rbfsearch/data11,0.51874624293,2481,0.00439446396834.npy\n",
      "rbfsearch/data11,98.3092745147,333,0.21845131764.npy\n",
      "rbfsearch/data01,0.215124997735,3152,50.8843493414.npy\n",
      "rbfsearch/data00,10.8390775701,8499,0.0491782716709.npy\n",
      "rbfsearch/data00,10.8198780542,3781,1.07515924599.npy\n",
      "rbfsearch/data11,0.118344564715,4980,1.80274469595.npy\n",
      "rbfsearch/data10,80.3194517554,6170,0.0592012053793.npy\n",
      "rbfsearch/data00,14.81496856,4659,2.41721783386.npy\n",
      "rbfsearch/data00,1.04329002358,3292,0.0706264861165.npy\n",
      "rbfsearch/data01,0.26357154482,2919,0.00120238952132.npy\n",
      "rbfsearch/data01,0.12174869945,676,0.00201737564454.npy\n",
      "rbfsearch/data00,0.851413821752,5846,0.000118775425679.npy\n",
      "rbfsearch/data01,34.5620696336,5143,0.0430045595661.npy\n",
      "rbfsearch/data01,0.463913563066,7035,2.54936814469.npy\n",
      "rbfsearch/data01,0.648201212486,4811,0.00846093839039.npy\n",
      "rbfsearch/data00,3.34968501269,74,5.73969324024.npy\n",
      "rbfsearch/data11,5.09625751576,2452,0.0028034105756.npy\n",
      "rbfsearch/data01,3.40598314286,8155,0.0141824255269.npy\n"
     ]
    },
    {
     "data": {
      "image/png": "[encoded data removed]",
      "text/plain": [
       "<matplotlib.figure.Figure at 0x7f45bed9fad0>"
      ]
     },
     "metadata": {},
     "output_type": "display_data"
    }
   ],
   "source": [
    "allbdata = all_data(\"rbfsearch/\")\n",
    "for bdata in allbdata:\n",
    "    data = bdata[:, 1, 0]\n",
    "#     if data[-1] < 5:\n",
    "    plt.plot(range(bdata.shape[0]), data)\n",
    "# means, std = mean_std(all_data(\"linsearchdata/\"))\n",
    "# L, _, _ = plt.errorbar(range(len(means)), means, yerr=std)"
   ]
  },
  {
   "cell_type": "code",
   "execution_count": 29,
   "metadata": {
    "collapsed": false
   },
   "outputs": [
    {
     "name": "stdout",
     "output_type": "stream",
     "text": [
      "linsearchdata/data7.726427.npy\n",
      "linsearchdata/data9.265438.npy\n",
      "linsearchdata/data78.195882.npy\n",
      "linsearchdata/data13092.609641.npy\n",
      "linsearchdata/data3.829637.npy\n",
      "linsearchdata/data48.866944.npy\n",
      "linsearchdata/data5626.983306.npy\n",
      "linsearchdata/data3118.869160.npy\n",
      "linsearchdata/data1.716992.npy\n",
      "linsearchdata/data5.077810.npy\n",
      "linsearchdata/data47.583458.npy\n",
      "linsearchdata/data2355.npy\n",
      "linsearchdata/data6274.npy\n",
      "linsearchdata/data7369.npy\n",
      "linsearchdata/data65987.494089.npy\n",
      "linsearchdata/data14753.375835.npy\n"
     ]
    },
    {
     "data": {
      "text/plain": [
       "('data3.829637.npy', array([[[  1.87005427e+01,   3.08631593e+02],\n",
       "         [  1.87005427e+01,   1.08958906e-01]],\n",
       " \n",
       "        [[  1.87005427e+01,   3.25603017e+02],\n",
       "         [  1.87005427e+01,   9.83251784e-02]],\n",
       " \n",
       "        [[  1.87005427e+01,   3.07428313e+02],\n",
       "         [  1.87005427e+01,   7.77159806e-02]],\n",
       " \n",
       "        [[  1.87005427e+01,   3.13307398e+02],\n",
       "         [  1.87005427e+01,   6.46048759e-02]],\n",
       " \n",
       "        [[  1.87005427e+01,   3.55697781e+02],\n",
       "         [  1.87005427e+01,   5.54720889e-02]],\n",
       " \n",
       "        [[  1.87005427e+01,   3.25154999e+02],\n",
       "         [  1.87005427e+01,   5.30533992e-02]],\n",
       " \n",
       "        [[  1.87005427e+01,   3.11022934e+02],\n",
       "         [  1.87005427e+01,   4.88179085e-02]],\n",
       " \n",
       "        [[  1.87005427e+01,   2.82696324e+02],\n",
       "         [  1.87005427e+01,   4.73786792e-02]],\n",
       " \n",
       "        [[  1.87005427e+01,   2.61023504e+02],\n",
       "         [  1.87005427e+01,   4.75643033e-02]],\n",
       " \n",
       "        [[  1.87005427e+01,   3.04512920e+02],\n",
       "         [  1.87005427e+01,   4.78216647e-02]],\n",
       " \n",
       "        [[  1.87005427e+01,   3.37328372e+02],\n",
       "         [  1.60939586e+01,   4.81234792e-02]],\n",
       " \n",
       "        [[  1.87005427e+01,   3.05302257e+02],\n",
       "         [  1.06519450e+01,   4.53359061e-02]],\n",
       " \n",
       "        [[  1.87005427e+01,   3.17374401e+02],\n",
       "         [  1.19841241e+01,   4.44312856e-02]],\n",
       " \n",
       "        [[  1.87005427e+01,   3.08550015e+02],\n",
       "         [  1.34391618e+01,   4.41843574e-02]],\n",
       " \n",
       "        [[  1.87005427e+01,   3.08504879e+02],\n",
       "         [  8.13870269e+00,   3.92272485e-02]],\n",
       " \n",
       "        [[  1.87005427e+01,   2.96643712e+02],\n",
       "         [ -5.02683261e-01,   3.81070973e-02]],\n",
       " \n",
       "        [[  1.87005427e+01,   2.79389220e+02],\n",
       "         [ -9.69528861e-02,   4.40847214e-02]],\n",
       " \n",
       "        [[  1.87005427e+01,   3.36521641e+02],\n",
       "         [ -8.70097846e-01,   3.89758013e-02]],\n",
       " \n",
       "        [[  1.87005427e+01,   3.20422832e+02],\n",
       "         [ -7.55678347e-01,   3.92743268e-02]],\n",
       " \n",
       "        [[  1.87005427e+01,   3.02428485e+02],\n",
       "         [  2.35354146e+00,   4.11882353e-02]],\n",
       " \n",
       "        [[  1.87005427e+01,   3.24708701e+02],\n",
       "         [ -1.11801845e+00,   3.98071693e-02]],\n",
       " \n",
       "        [[  1.87005427e+01,   3.24076422e+02],\n",
       "         [ -6.42274594e-01,   3.82643234e-02]],\n",
       " \n",
       "        [[  1.87005427e+01,   3.20475122e+02],\n",
       "         [ -1.39137341e+00,   3.45777602e-02]],\n",
       " \n",
       "        [[  1.87005427e+01,   2.95150422e+02],\n",
       "         [ -1.67350333e+01,   3.52981348e-02]],\n",
       " \n",
       "        [[  1.87005427e+01,   2.94657953e+02],\n",
       "         [ -4.51215373e+00,   3.90650660e-02]]]))"
      ]
     },
     "execution_count": 29,
     "metadata": {},
     "output_type": "execute_result"
    }
   ],
   "source": [
    "allbdata = all_data(\"linsearchdata/\")\n",
    "allbdata[4]"
   ]
  },
  {
   "cell_type": "code",
   "execution_count": 31,
   "metadata": {
    "collapsed": false
   },
   "outputs": [
    {
     "name": "stdout",
     "output_type": "stream",
     "text": [
      "data3.829637.npy\n"
     ]
    },
    {
     "data": {
      "text/plain": [
       "[<matplotlib.lines.Line2D at 0x7f45c6a87dd0>]"
      ]
     },
     "execution_count": 31,
     "metadata": {},
     "output_type": "execute_result"
    },
    {
     "data": {
      "image/png": "[encoded data removed]",
      "text/plain": [
       "<matplotlib.figure.Figure at 0x7f45beb794d0>"
      ]
     },
     "metadata": {},
     "output_type": "display_data"
    }
   ],
   "source": [
    "bdata = allbdata[4][1]\n",
    "print allbdata[4][0]\n",
    "data = bdata[:, 1, 0]\n",
    "plt.plot(range(bdata.shape[0]), data)"
   ]
  },
  {
   "cell_type": "code",
   "execution_count": 11,
   "metadata": {
    "collapsed": false
   },
   "outputs": [],
   "source": [
    "def mean_std(allbdata):\n",
    "    allbdata = allbdata[:, :, 1, 0]\n",
    "    means = np.mean(allbdata, axis=0)\n",
    "    std = np.std(allbdata, axis=0)\n",
    "    return means, std"
   ]
  },
  {
   "cell_type": "code",
   "execution_count": 57,
   "metadata": {
    "collapsed": false,
    "scrolled": false
   },
   "outputs": [
    {
     "name": "stdout",
     "output_type": "stream",
     "text": [
      "rbfsearch/data00,2.08130764309,5233,0.0357344897018.npy\n",
      "rbfsearch/data10,0.331244080595,2760,0.00311075770094.npy\n",
      "rbfsearch/data00,64.984276357,4101,444.067953502.npy\n",
      "rbfsearch/data11,18.996785275,6007,2.70455455883.npy\n",
      "rbfsearch/data11,0.125828125,4809,0.000110888312501.npy\n",
      "rbfsearch/data11,84.3800384249,3734,11.8465804955.npy\n",
      "rbfsearch/data00,0.104701392651,1713,20.9073133416.npy\n",
      "rbfsearch/data10,0.54373017539,8778,2.43154767162.npy\n",
      "rbfsearch/data10,0.215089613267,6954,14.6131152614.npy\n",
      "rbfsearch/data10,10.0453631811,6499,0.000187894649724.npy\n",
      "rbfsearch/data11,0.727139726126,8232,1.71160824841.npy\n",
      "rbfsearch/data01,0.3569258024,4271,0.000146470861103.npy\n",
      "rbfsearch/data10,0.279066682194,2675,63.5664969112.npy\n",
      "rbfsearch/data11,93.4198797164,164,0.966597326476.npy\n",
      "rbfsearch/data11,0.110020518727,8430,0.0416436569452.npy\n",
      "rbfsearch/data01,0.811180460232,1475,0.00295080534112.npy\n",
      "rbfsearch/data10,8.83217149044,6373,0.0253683607348.npy\n",
      "rbfsearch/data10,0.45238122213,6464,0.400867941278.npy\n",
      "rbfsearch/data10,2.45697535037,7661,81.2493762397.npy\n",
      "rbfsearch/data00,36.3685129684,183,0.0198302228293.npy\n",
      "rbfsearch/data10,0.185997918305,885,0.0409151154668.npy\n",
      "rbfsearch/data11,64.3444024352,82,497.581352704.npy\n",
      "rbfsearch/data01,3.66079717604,3712,0.00596711164561.npy\n",
      "rbfsearch/data11,5.72858380143,6477,13.3868983367.npy\n",
      "rbfsearch/data10,0.839128985731,2536,0.00869778305787.npy\n",
      "rbfsearch/data10,1.31067986009,401,0.0866756756186.npy\n",
      "rbfsearch/data00,0.614693282292,807,0.0255669684829.npy\n",
      "rbfsearch/data00,1.70183180777,6546,0.936358416287.npy\n",
      "rbfsearch/data10,0.200673967204,1491,0.0109413867006.npy\n",
      "rbfsearch/data10,0.541498877665,8380,1.52691405071.npy\n",
      "rbfsearch/data01,0.323110384345,233,0.000114172284196.npy\n",
      "rbfsearch/data10,0.118821366003,4477,0.000306543575923.npy\n",
      "rbfsearch/data00,1.83643122713,6137,0.000969597457157.npy\n",
      "rbfsearch/data11,15.2900342861,3037,0.00605814642769.npy\n",
      "rbfsearch/data11,0.844062298702,5107,0.128963272878.npy\n",
      "rbfsearch/data01,0.24115918926,8702,746.115330805.npy\n",
      "rbfsearch/data10,78.3889230286,4343,61.7994816918.npy\n",
      "rbfsearch/data10,1.55547173476,4179,0.0267085259648.npy\n",
      "rbfsearch/data00,15.6904563707,669,0.122639293309.npy\n",
      "rbfsearch/data01,0.222209811233,154,0.00899871756279.npy\n",
      "rbfsearch/data11,0.290167503772,4074,16.0718273077.npy\n",
      "rbfsearch/data01,3.14083052776,6838,7.88769833555.npy\n",
      "rbfsearch/data00,16.8070947096,981,32.3057387404.npy\n",
      "rbfsearch/data00,20.1952222091,2955,0.0565106752805.npy\n",
      "rbfsearch/data01,1.87185205231,6426,0.235278197109.npy\n",
      "rbfsearch/data10,0.216113478571,8142,120.998632625.npy\n",
      "rbfsearch/data10,0.33871553977,6053,0.980323790487.npy\n",
      "rbfsearch/data01,1.54027288627,5695,0.0702562622422.npy\n",
      "rbfsearch/data00,4.69997487913,423,0.000497342953594.npy\n",
      "rbfsearch/data01,0.275692554996,2608,52.7525782323.npy\n",
      "rbfsearch/data11,55.3734463031,8615,0.0173500128436.npy\n",
      "rbfsearch/data01,0.259778806819,6783,21.2186822774.npy\n",
      "rbfsearch/data11,30.2345137412,8874,558.909878972.npy\n",
      "rbfsearch/data10,5.53324076924,5660,0.0141499329017.npy\n",
      "rbfsearch/data10,0.392162184376,1684,0.000359673185866.npy\n",
      "rbfsearch/data11,0.101870602078,2011,0.141579896504.npy\n",
      "rbfsearch/data11,0.341611711398,359,0.000158707531257.npy\n",
      "rbfsearch/data00,0.117914282613,4054,36.1249523874.npy\n",
      "rbfsearch/data01,6.27727494444,4760,0.00258355642085.npy\n",
      "rbfsearch/data10,2.95000944698,7324,22.229505146.npy\n",
      "rbfsearch/data00,2.16008816314,3357,0.000748114928783.npy\n",
      "rbfsearch/data00,25.5379187559,4783,212.493902139.npy\n",
      "rbfsearch/data01,20.3508880992,5279,0.00168548259247.npy\n",
      "rbfsearch/data00,2.16372011901,543,0.000318560733767.npy\n",
      "rbfsearch/data10,1.20417693247,2494,173.70313319.npy\n",
      "rbfsearch/data10,0.87939182983,6320,0.0495912409436.npy\n",
      "rbfsearch/data11,5.77356523311,6070,4.47701133252.npy\n",
      "rbfsearch/data01,0.535811425843,4922,0.00706463847094.npy\n",
      "rbfsearch/data10,7.16213399506,5874,0.000129364783325.npy\n",
      "rbfsearch/data11,41.346020373,1029,39.9600881448.npy\n",
      "rbfsearch/data01,45.6176150483,5663,736.872695666.npy\n",
      "rbfsearch/data01,7.68626579016,4624,0.000904611337779.npy\n",
      "rbfsearch/data10,0.469897177549,7093,0.00181166078032.npy\n",
      "rbfsearch/data00,0.149737216821,207,27.0716377085.npy\n",
      "rbfsearch/data01,0.288709172417,7218,0.0363514523841.npy\n",
      "rbfsearch/data10,6.87944438671,7663,140.134702276.npy\n",
      "rbfsearch/data01,17.4413357708,7825,110.164972657.npy\n",
      "rbfsearch/data10,45.5429661272,3043,0.206570019256.npy\n",
      "rbfsearch/data11,0.51874624293,2481,0.00439446396834.npy\n",
      "rbfsearch/data11,98.3092745147,333,0.21845131764.npy\n",
      "rbfsearch/data01,0.215124997735,3152,50.8843493414.npy\n",
      "rbfsearch/data00,10.8390775701,8499,0.0491782716709.npy\n",
      "rbfsearch/data00,10.8198780542,3781,1.07515924599.npy\n",
      "rbfsearch/data11,0.118344564715,4980,1.80274469595.npy\n",
      "rbfsearch/data10,80.3194517554,6170,0.0592012053793.npy\n",
      "rbfsearch/data00,14.81496856,4659,2.41721783386.npy\n",
      "rbfsearch/data00,1.04329002358,3292,0.0706264861165.npy\n",
      "rbfsearch/data01,0.26357154482,2919,0.00120238952132.npy\n",
      "rbfsearch/data01,0.12174869945,676,0.00201737564454.npy\n",
      "rbfsearch/data00,0.851413821752,5846,0.000118775425679.npy\n",
      "rbfsearch/data01,34.5620696336,5143,0.0430045595661.npy\n",
      "rbfsearch/data01,0.463913563066,7035,2.54936814469.npy\n",
      "rbfsearch/data01,0.648201212486,4811,0.00846093839039.npy\n",
      "rbfsearch/data00,3.34968501269,74,5.73969324024.npy\n",
      "rbfsearch/data11,5.09625751576,2452,0.0028034105756.npy\n",
      "rbfsearch/data01,3.40598314286,8155,0.0141824255269.npy\n"
     ]
    },
    {
     "data": {
      "text/plain": [
       "<matplotlib.legend.Legend at 0x7f45becb4410>"
      ]
     },
     "execution_count": 57,
     "metadata": {},
     "output_type": "execute_result"
    },
    {
     "data": {
      "image/png": "[encoded data removed]",
      "text/plain": [
       "<matplotlib.figure.Figure at 0x7f45bef8cf90>"
      ]
     },
     "metadata": {},
     "output_type": "display_data"
    }
   ],
   "source": [
    "exps = ['rbfsearch/']\n",
    "lines = []\n",
    "for exp in exps:\n",
    "    means, std = mean_std(all_data(exp))\n",
    "    L, _, _ = plt.errorbar(range(len(means)), means, yerr=std)\n",
    "    lines.append(L)\n",
    "plt.legend(lines, exps)"
   ]
  },
  {
   "cell_type": "code",
   "execution_count": 42,
   "metadata": {
    "collapsed": false
   },
   "outputs": [
    {
     "name": "stdout",
     "output_type": "stream",
     "text": [
      "linsearchdata/data7.726427.npy 18.7005426886\n",
      "linsearchdata/data9.265438.npy 11.7451285377\n",
      "linsearchdata/data78.195882.npy -0.62319458708\n",
      "linsearchdata/data13092.609641.npy 18.7005426886\n",
      "linsearchdata/data3.829637.npy -4.51215372991\n",
      "linsearchdata/data48.866944.npy -0.193361799406\n",
      "linsearchdata/data5626.983306.npy 18.7005426886\n",
      "linsearchdata/data3118.869160.npy 15.3787695457\n",
      "linsearchdata/data47.583458.npy 3.08617299516\n",
      "linsearchdata/data2355.npy 18.7005426886\n",
      "linsearchdata/data6274.npy 12.396007643\n",
      "linsearchdata/data65987.494089.npy 18.7005426886\n",
      "linsearchdata/data14753.375835.npy 8.88139484891\n"
     ]
    },
    {
     "ename": "TypeError",
     "evalue": "list indices must be integers, not tuple",
     "output_type": "error",
     "traceback": [
      "\u001b[0;31m---------------------------------------------------------------------------\u001b[0m",
      "\u001b[0;31mTypeError\u001b[0m                                 Traceback (most recent call last)",
      "\u001b[0;32m<ipython-input-42-1b537eb4967e>\u001b[0m in \u001b[0;36m<module>\u001b[0;34m()\u001b[0m\n\u001b[1;32m      2\u001b[0m \u001b[0mlines\u001b[0m \u001b[0;34m=\u001b[0m \u001b[0;34m[\u001b[0m\u001b[0;34m]\u001b[0m\u001b[0;34m\u001b[0m\u001b[0m\n\u001b[1;32m      3\u001b[0m \u001b[0;32mfor\u001b[0m \u001b[0mexp\u001b[0m \u001b[0;32min\u001b[0m \u001b[0mexps\u001b[0m\u001b[0;34m:\u001b[0m\u001b[0;34m\u001b[0m\u001b[0m\n\u001b[0;32m----> 4\u001b[0;31m     \u001b[0mmeans\u001b[0m\u001b[0;34m,\u001b[0m \u001b[0mstd\u001b[0m \u001b[0;34m=\u001b[0m \u001b[0mmean_std\u001b[0m\u001b[0;34m(\u001b[0m\u001b[0mall_data\u001b[0m\u001b[0;34m(\u001b[0m\u001b[0mexp\u001b[0m\u001b[0;34m)\u001b[0m\u001b[0;34m)\u001b[0m\u001b[0;34m\u001b[0m\u001b[0m\n\u001b[0m\u001b[1;32m      5\u001b[0m     \u001b[0mL\u001b[0m\u001b[0;34m,\u001b[0m \u001b[0m_\u001b[0m\u001b[0;34m,\u001b[0m \u001b[0m_\u001b[0m \u001b[0;34m=\u001b[0m \u001b[0mplt\u001b[0m\u001b[0;34m.\u001b[0m\u001b[0merrorbar\u001b[0m\u001b[0;34m(\u001b[0m\u001b[0mrange\u001b[0m\u001b[0;34m(\u001b[0m\u001b[0mlen\u001b[0m\u001b[0;34m(\u001b[0m\u001b[0mmeans\u001b[0m\u001b[0;34m)\u001b[0m\u001b[0;34m)\u001b[0m\u001b[0;34m,\u001b[0m \u001b[0mmeans\u001b[0m\u001b[0;34m,\u001b[0m \u001b[0myerr\u001b[0m\u001b[0;34m=\u001b[0m\u001b[0mstd\u001b[0m\u001b[0;34m)\u001b[0m\u001b[0;34m\u001b[0m\u001b[0m\n\u001b[1;32m      6\u001b[0m     \u001b[0mlines\u001b[0m\u001b[0;34m.\u001b[0m\u001b[0mappend\u001b[0m\u001b[0;34m(\u001b[0m\u001b[0mL\u001b[0m\u001b[0;34m)\u001b[0m\u001b[0;34m\u001b[0m\u001b[0m\n",
      "\u001b[0;32m<ipython-input-11-d3f5d9f2988b>\u001b[0m in \u001b[0;36mmean_std\u001b[0;34m(allbdata)\u001b[0m\n\u001b[1;32m      1\u001b[0m \u001b[0;32mdef\u001b[0m \u001b[0mmean_std\u001b[0m\u001b[0;34m(\u001b[0m\u001b[0mallbdata\u001b[0m\u001b[0;34m)\u001b[0m\u001b[0;34m:\u001b[0m\u001b[0;34m\u001b[0m\u001b[0m\n\u001b[0;32m----> 2\u001b[0;31m     \u001b[0mallbdata\u001b[0m \u001b[0;34m=\u001b[0m \u001b[0mallbdata\u001b[0m\u001b[0;34m[\u001b[0m\u001b[0;34m:\u001b[0m\u001b[0;34m,\u001b[0m \u001b[0;34m:\u001b[0m\u001b[0;34m,\u001b[0m \u001b[0;36m1\u001b[0m\u001b[0;34m,\u001b[0m \u001b[0;36m0\u001b[0m\u001b[0;34m]\u001b[0m\u001b[0;34m\u001b[0m\u001b[0m\n\u001b[0m\u001b[1;32m      3\u001b[0m     \u001b[0mmeans\u001b[0m \u001b[0;34m=\u001b[0m \u001b[0mnp\u001b[0m\u001b[0;34m.\u001b[0m\u001b[0mmean\u001b[0m\u001b[0;34m(\u001b[0m\u001b[0mallbdata\u001b[0m\u001b[0;34m,\u001b[0m \u001b[0maxis\u001b[0m\u001b[0;34m=\u001b[0m\u001b[0;36m0\u001b[0m\u001b[0;34m)\u001b[0m\u001b[0;34m\u001b[0m\u001b[0m\n\u001b[1;32m      4\u001b[0m     \u001b[0mstd\u001b[0m \u001b[0;34m=\u001b[0m \u001b[0mnp\u001b[0m\u001b[0;34m.\u001b[0m\u001b[0mstd\u001b[0m\u001b[0;34m(\u001b[0m\u001b[0mallbdata\u001b[0m\u001b[0;34m,\u001b[0m \u001b[0maxis\u001b[0m\u001b[0;34m=\u001b[0m\u001b[0;36m0\u001b[0m\u001b[0;34m)\u001b[0m\u001b[0;34m\u001b[0m\u001b[0m\n\u001b[1;32m      5\u001b[0m     \u001b[0;32mreturn\u001b[0m \u001b[0mmeans\u001b[0m\u001b[0;34m,\u001b[0m \u001b[0mstd\u001b[0m\u001b[0;34m\u001b[0m\u001b[0m\n",
      "\u001b[0;31mTypeError\u001b[0m: list indices must be integers, not tuple"
     ]
    }
   ],
   "source": [
    "exps = ['linsearchdata/']\n",
    "lines = []\n",
    "for exp in exps:\n",
    "    means, std = mean_std(all_data(exp))\n",
    "    L, _, _ = plt.errorbar(range(len(means)), means, yerr=std)\n",
    "    lines.append(L)\n",
    "plt.legend(lines, exps)"
   ]
  },
  {
   "cell_type": "code",
   "execution_count": 137,
   "metadata": {
    "collapsed": false,
    "scrolled": true
   },
   "outputs": [
    {
     "name": "stdout",
     "output_type": "stream",
     "text": [
      "data/baseline/data3117.npy\n",
      "data/baseline/data9965.npy\n",
      "data/baseline/data6028.npy\n",
      "data/baseline/data7560.npy\n",
      "data/baseline/data5252.npy\n",
      "data/baseline/data9933.npy\n",
      "data/baseline/data6429.npy\n",
      "data/baseline/data8405.npy\n",
      "data/baseline/data1480.npy\n",
      "data/baseline/data7444.npy\n",
      "data/baseline/data6250.npy\n",
      "data/baseline/data2882.npy\n",
      "data/baseline/data93.npy\n",
      "data/baseline/data2087.npy\n",
      "data/baseline/data6366.npy\n",
      "data/baseline/data1492.npy\n",
      "data/baseline/data5185.npy\n",
      "data/baseline/data9094.npy\n",
      "data/baseline/data5784.npy\n",
      "data/baseline/data7984.npy\n",
      "data/baseline/data1139.npy\n",
      "data/baseline/data6159.npy\n",
      "data/baseline/data7539.npy\n",
      "data/baseline/data6064.npy\n",
      "data/baseline/data5017.npy\n",
      "data/baseline/data75.npy\n",
      "data/baseline/data4529.npy\n",
      "data/baseline/data6049.npy\n",
      "data/peg/data5331.npy\n",
      "data/peg/data256.npy\n",
      "data/peg/data9096.npy\n",
      "data/peg/data4149.npy\n",
      "data/peg/data4749.npy\n",
      "data/peg/data1480.npy\n",
      "data/peg/data6558.npy\n",
      "data/peg/data1496.npy\n",
      "data/peg/data6595.npy\n",
      "data/peg/data9717.npy\n",
      "data/peg/data7316.npy\n",
      "data/peg/data1739.npy\n",
      "data/peg/data8487.npy\n",
      "data/peg/data9060.npy\n",
      "data/peg/data7307.npy\n",
      "data/peg/data3497.npy\n",
      "data/peg/data785.npy\n",
      "data/peg/data123.npy\n",
      "data/peg/data2008.npy\n",
      "data/peg/data234.npy\n",
      "data/peg/data9721.npy\n",
      "data/peg/data249.npy\n",
      "data/peg/data9484.npy\n",
      "data/peg/data125.npy\n",
      "data/peg/data6974.npy\n",
      "data/peg/data5289.npy\n",
      "data/peg/data5498.npy\n",
      "data/peg/data3593.npy\n",
      "data/peg/data323.npy\n",
      "data/push/data9090.npy\n",
      "data/push/data6854.npy\n",
      "data/push/data5430.npy\n",
      "data/push/data3130.npy\n",
      "data/push/data8445.npy\n",
      "data/push/data5061.npy\n",
      "data/push/data170.npy\n",
      "data/push/data7333.npy\n",
      "data/push/data6029.npy\n",
      "data/push/data2065.npy\n",
      "data/push/data2248.npy\n",
      "data/push/data4847.npy\n",
      "data/push/data7286.npy\n",
      "data/push/data3042.npy\n",
      "data/push/data8821.npy\n",
      "data/push/data2020.npy\n",
      "data/push/data9774.npy\n",
      "data/push/data5723.npy\n",
      "data/push/data5218.npy\n",
      "data/push/data5998.npy\n",
      "data/push/data7739.npy\n",
      "data/push/data330.npy\n",
      "data/push/data5320.npy\n",
      "data/push/data548.npy\n",
      "data/push/data488.npy\n",
      "data/push/data5089.npy\n",
      "data/push/data4874.npy\n",
      "data/push/data8167.npy\n",
      "data/reach/data4140.npy\n",
      "data/reach/data201.npy\n",
      "data/reach/data2481.npy\n",
      "data/reach/data7070.npy\n",
      "data/reach/data9825.npy\n",
      "data/reach/data1327.npy\n",
      "data/reach/data1112.npy\n",
      "data/reach/data7561.npy\n",
      "data/reach/data6536.npy\n",
      "data/reach/data1884.npy\n",
      "data/ours/data2797.npy\n",
      "data/ours/data9003.npy\n",
      "data/ours/data4262.npy\n",
      "data/ours/data215.npy\n",
      "data/ours/data7920.npy\n",
      "data/ours/data6291.npy\n",
      "data/ours/data469.npy\n",
      "data/ours/data6774.npy\n",
      "data/ours/data9653.npy\n",
      "data/ours/data7325.npy\n",
      "data/ours/data391.npy\n",
      "data/ours/data5555.npy\n",
      "data/ours/data8821.npy\n",
      "data/ours/data6366.npy\n",
      "data/ours/data2731.npy\n",
      "data/ours/data2515.npy\n",
      "data/ours/data1817.npy\n",
      "data/ours/data1596.npy\n",
      "data/ours/data9677.npy\n",
      "data/ours/data9409.npy\n",
      "data/ours/data7663.npy\n",
      "data/ours/data2325.npy\n",
      "data/ours/data8213.npy\n",
      "data/ours/data9029.npy\n",
      "data/ours/data7578.npy\n",
      "data/ours/data7183.npy\n",
      "data/ours/data9355.npy\n",
      "data/ours/data8152.npy\n",
      "data/ours/data7230.npy\n"
     ]
    },
    {
     "data": {
      "text/plain": [
       "<matplotlib.text.Text at 0x7f121c8b4c90>"
      ]
     },
     "execution_count": 137,
     "metadata": {},
     "output_type": "execute_result"
    },
    {
     "data": {
      "image/png": "[encoded data removed]",
      "text/plain": [
       "<matplotlib.figure.Figure at 0x7f121ca81a90>"
      ]
     },
     "metadata": {},
     "output_type": "display_data"
    }
   ],
   "source": [
    "exps = ['baseline', 'peg', 'push', 'reach', 'ours']\n",
    "nmap = {'ours': 'Combined Proxies', 'peg':\"Peg Proxy\", \n",
    "        \"push\":\"Push Proxy\", \"baseline\":\"Baseline\", \"reach\":\"Reach Proxy\"}\n",
    "lines = []\n",
    "fig = plt.figure(figsize=(15, 9))\n",
    "ax = fig.add_subplot(221) \n",
    "\n",
    "for exp in exps:\n",
    "    means, std = mean_std(all_data(\"data/\" + exp))\n",
    "    L, _, _ = plt.errorbar(range(len(means)), means, yerr=std*0.2)\n",
    "    lines.append(L)\n",
    "leg = plt.legend(lines, [nmap[name] for name in exps])\n",
    "plt.draw()\n",
    "\n",
    "# Get the bounding box of the original legend\n",
    "bb = leg.legendPatch.get_bbox().inverse_transformed(ax.transAxes)\n",
    "\n",
    "# Change t location of the legend. \n",
    "xOffset = 0.5\n",
    "newX0 = bb.x0 + xOffset\n",
    "newX1 = bb.x1 + xOffset\n",
    "bb.set_points([[newX0, bb.y0], [newX1, bb.y1]])\n",
    "leg.set_bbox_to_anchor(bb)\n",
    "plt.grid()\n",
    "plt.xlabel('Iteration')\n",
    "plt.ylabel('Unshaped Cost')"
   ]
  },
  {
   "cell_type": "code",
   "execution_count": 135,
   "metadata": {
    "collapsed": false
   },
   "outputs": [
    {
     "name": "stdout",
     "output_type": "stream",
     "text": [
      "data/baseline/data3117.npy\n",
      "data/baseline/data9965.npy\n",
      "data/baseline/data6028.npy\n",
      "data/baseline/data7560.npy\n",
      "data/baseline/data5252.npy\n",
      "data/baseline/data9933.npy\n",
      "data/baseline/data6429.npy\n",
      "data/baseline/data8405.npy\n",
      "data/baseline/data1480.npy\n",
      "data/baseline/data7444.npy\n",
      "data/baseline/data6250.npy\n",
      "data/baseline/data2882.npy\n",
      "data/baseline/data93.npy\n",
      "data/baseline/data2087.npy\n",
      "data/baseline/data6366.npy\n",
      "data/baseline/data1492.npy\n",
      "data/baseline/data5185.npy\n",
      "data/baseline/data9094.npy\n",
      "data/baseline/data5784.npy\n",
      "data/baseline/data7984.npy\n",
      "data/baseline/data1139.npy\n",
      "data/baseline/data6159.npy\n",
      "data/baseline/data7539.npy\n",
      "data/baseline/data6064.npy\n",
      "data/baseline/data5017.npy\n",
      "data/baseline/data75.npy\n",
      "data/baseline/data4529.npy\n",
      "data/baseline/data6049.npy\n",
      "data/peg/data5331.npy\n",
      "data/peg/data256.npy\n",
      "data/peg/data9096.npy\n",
      "data/peg/data4149.npy\n",
      "data/peg/data4749.npy\n",
      "data/peg/data1480.npy\n",
      "data/peg/data6558.npy\n",
      "data/peg/data1496.npy\n",
      "data/peg/data6595.npy\n",
      "data/peg/data9717.npy\n",
      "data/peg/data7316.npy\n",
      "data/peg/data1739.npy\n",
      "data/peg/data8487.npy\n",
      "data/peg/data9060.npy\n",
      "data/peg/data7307.npy\n",
      "data/peg/data3497.npy\n",
      "data/peg/data785.npy\n",
      "data/peg/data123.npy\n",
      "data/peg/data2008.npy\n",
      "data/peg/data234.npy\n",
      "data/peg/data9721.npy\n",
      "data/peg/data249.npy\n",
      "data/peg/data9484.npy\n",
      "data/peg/data125.npy\n",
      "data/peg/data6974.npy\n",
      "data/peg/data5289.npy\n",
      "data/peg/data5498.npy\n",
      "data/peg/data3593.npy\n",
      "data/peg/data323.npy\n",
      "data/push/data9090.npy\n",
      "data/push/data6854.npy\n",
      "data/push/data5430.npy\n",
      "data/push/data3130.npy\n",
      "data/push/data8445.npy\n",
      "data/push/data5061.npy\n",
      "data/push/data170.npy\n",
      "data/push/data7333.npy\n",
      "data/push/data6029.npy\n",
      "data/push/data2065.npy\n",
      "data/push/data2248.npy\n",
      "data/push/data4847.npy\n",
      "data/push/data7286.npy\n",
      "data/push/data3042.npy\n",
      "data/push/data8821.npy\n",
      "data/push/data2020.npy\n",
      "data/push/data9774.npy\n",
      "data/push/data5723.npy\n",
      "data/push/data5218.npy\n",
      "data/push/data5998.npy\n",
      "data/push/data7739.npy\n",
      "data/push/data330.npy\n",
      "data/push/data5320.npy\n",
      "data/push/data548.npy\n",
      "data/push/data488.npy\n",
      "data/push/data5089.npy\n",
      "data/push/data4874.npy\n",
      "data/push/data8167.npy\n",
      "data/reach/data4140.npy\n",
      "data/reach/data201.npy\n",
      "data/reach/data2481.npy\n",
      "data/reach/data7070.npy\n",
      "data/reach/data9825.npy\n",
      "data/reach/data1327.npy\n",
      "data/reach/data1112.npy\n",
      "data/reach/data7561.npy\n",
      "data/reach/data6536.npy\n",
      "data/reach/data1884.npy\n",
      "data/ours/data2797.npy\n",
      "data/ours/data9003.npy\n",
      "data/ours/data4262.npy\n",
      "data/ours/data215.npy\n",
      "data/ours/data7920.npy\n",
      "data/ours/data6291.npy\n",
      "data/ours/data469.npy\n",
      "data/ours/data6774.npy\n",
      "data/ours/data9653.npy\n",
      "data/ours/data7325.npy\n",
      "data/ours/data391.npy\n",
      "data/ours/data5555.npy\n",
      "data/ours/data8821.npy\n",
      "data/ours/data6366.npy\n",
      "data/ours/data2731.npy\n",
      "data/ours/data2515.npy\n",
      "data/ours/data1817.npy\n",
      "data/ours/data1596.npy\n",
      "data/ours/data9677.npy\n",
      "data/ours/data9409.npy\n",
      "data/ours/data7663.npy\n",
      "data/ours/data2325.npy\n",
      "data/ours/data8213.npy\n",
      "data/ours/data9029.npy\n",
      "data/ours/data7578.npy\n",
      "data/ours/data7183.npy\n",
      "data/ours/data9355.npy\n",
      "data/ours/data8152.npy\n",
      "data/ours/data7230.npy\n",
      "High five! You successfuly sent some data to your account on plotly. View your plot in your browser at https://plot.ly/~wynd07/0 or inside your plot.ly account where it is named 'shaded_lines'\n"
     ]
    },
    {
     "data": {
      "text/html": [
       "<iframe id=\"igraph\" scrolling=\"no\" style=\"border:none;\" seamless=\"seamless\" src=\"https://plot.ly/~wynd07/0.embed\" height=\"525px\" width=\"100%\"></iframe>"
      ],
      "text/plain": [
       "<plotly.tools.PlotlyDisplay object>"
      ]
     },
     "execution_count": 135,
     "metadata": {},
     "output_type": "execute_result"
    }
   ],
   "source": [
    "import plotly.plotly as py\n",
    "py.sign_in('wynd07', 'yvd647olzg')\n",
    "from plotly.graph_objs import *\n",
    "\n",
    "datas = []\n",
    "exps = ['baseline', 'peg', 'push', 'reach', 'ours']\n",
    "nmap = {'ours': 'Combined Proxies', 'peg':\"Peg Proxy\", \n",
    "        \"push\":\"Push Proxy\", \"baseline\":\"Baseline\", \"reach\":\"Reach Proxy\"}\n",
    "cmap = {'ours':'0,100,80', 'peg': '0,176,246', 'push': '231,107,243', \n",
    "        'baseline':'176,23,31', 'reach':'231,107,243'}\n",
    "\n",
    "for exp in exps:\n",
    "    means, std = mean_std(all_data(\"data/\" + exp))\n",
    "    std  *= 0.5\n",
    "    x = range(len(means))\n",
    "    x_rev = x[::-1]\n",
    "    y = means\n",
    "    y_upper = means + std\n",
    "    y_lower = means - std\n",
    "    y_lower = y_lower[::-1]\n",
    "    datas.append(\n",
    "        Scatter(\n",
    "            x=x,\n",
    "            y=y,\n",
    "            line=Line(color='rgb('+ cmap[exp]+ ')'),\n",
    "            mode='lines',\n",
    "            name=nmap[exp],\n",
    "        ))\n",
    "    datas.append(Scatter(\n",
    "        x=x+x_rev,\n",
    "        y=y_upper+y_lower,\n",
    "        fill='tozerox',\n",
    "        fillcolor='rgba('+ cmap[exp]+ ',0.2)',\n",
    "        line=Line(color='transparent'),\n",
    "        showlegend=False,\n",
    "        name='Fair',\n",
    "    ))\n",
    "    \n",
    "\n",
    "\n",
    "data = Data(datas)\n",
    "\n",
    "layout = Layout(\n",
    "    paper_bgcolor='rgb(255,255,255)',\n",
    "    plot_bgcolor='rgb(255,255,255)',\n",
    "    xaxis=XAxis(\n",
    "        gridcolor='rgb(220,220,220)',\n",
    "        range=[1,10],\n",
    "        showgrid=True,\n",
    "        showline=False,\n",
    "        showticklabels=True,\n",
    "        tickcolor='rgb(127,127,127)',\n",
    "        ticks='outside',\n",
    "        zeroline=False\n",
    "    ),\n",
    "    yaxis=YAxis(\n",
    "        gridcolor='rgb(220,220,220)',\n",
    "        showgrid=True,\n",
    "        showline=False,\n",
    "        showticklabels=True,\n",
    "        tickcolor='rgb(127,127,127)',\n",
    "        ticks='outside',\n",
    "        zeroline=False\n",
    "    ),\n",
    ")\n",
    "fig = Figure(data=data, layout=layout)\n",
    "py.iplot(fig, filename= 'shaded_lines')"
   ]
  },
  {
   "cell_type": "markdown",
   "metadata": {
    "collapsed": true
   },
   "source": [
    "# "
   ]
  }
 ],
 "metadata": {
  "kernelspec": {
   "display_name": "Python 2",
   "language": "python",
   "name": "python2"
  },
  "language_info": {
   "codemirror_mode": {
    "name": "ipython",
    "version": 2
   },
   "file_extension": ".py",
   "mimetype": "text/x-python",
   "name": "python",
   "nbconvert_exporter": "python",
   "pygments_lexer": "ipython2",
   "version": "2.7.12"
  }
 },
 "nbformat": 4,
 "nbformat_minor": 1
}
